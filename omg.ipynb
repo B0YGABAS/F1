{
 "cells": [
  {
   "cell_type": "code",
   "execution_count": null,
   "metadata": {},
   "outputs": [],
   "source": [
    "len((2022, 1, 19, 1, 3, 0, 0.0, 0, 19, 255, 66, 85, 84, 78, 4))"
   ]
  },
  {
   "cell_type": "code",
   "execution_count": null,
   "metadata": {},
   "outputs": [],
   "source": [
    "(2022, 1, 19, 1, 3, 0, 0.0, 0, 19, 255, 66, 85, 84, 78, 4)[14]"
   ]
  },
  {
   "cell_type": "code",
   "execution_count": null,
   "metadata": {},
   "outputs": [],
   "source": [
    "x=[2022, 1, 19, 1, 3, 0, 0.0, 0, 19, 255, 66, 85, 84, 78, 4]"
   ]
  },
  {
   "cell_type": "code",
   "execution_count": null,
   "metadata": {},
   "outputs": [],
   "source": [
    "x.pop(2)\n",
    "x"
   ]
  },
  {
   "cell_type": "code",
   "execution_count": null,
   "metadata": {},
   "outputs": [],
   "source": [
    "y=[chr(i) for i in range(ord('a'),ord('z')+1)]\n",
    "y=y+[\"1\",\"2\",None,\"3\"]\n",
    "y"
   ]
  },
  {
   "cell_type": "code",
   "execution_count": null,
   "metadata": {},
   "outputs": [],
   "source": [
    "\"\".join(i for i in y[:y.index(None)])"
   ]
  },
  {
   "cell_type": "code",
   "execution_count": 13,
   "metadata": {},
   "outputs": [],
   "source": [
    "import pandas as pd\n",
    "import random\n",
    "import numpy as np\n",
    "rs=lambda :random.randrange(100)"
   ]
  },
  {
   "cell_type": "code",
   "execution_count": 14,
   "metadata": {},
   "outputs": [
    {
     "data": {
      "text/html": [
       "<div>\n",
       "<style scoped>\n",
       "    .dataframe tbody tr th:only-of-type {\n",
       "        vertical-align: middle;\n",
       "    }\n",
       "\n",
       "    .dataframe tbody tr th {\n",
       "        vertical-align: top;\n",
       "    }\n",
       "\n",
       "    .dataframe thead th {\n",
       "        text-align: right;\n",
       "    }\n",
       "</style>\n",
       "<table border=\"1\" class=\"dataframe\">\n",
       "  <thead>\n",
       "    <tr style=\"text-align: right;\">\n",
       "      <th></th>\n",
       "      <th>1</th>\n",
       "      <th>2</th>\n",
       "    </tr>\n",
       "  </thead>\n",
       "  <tbody>\n",
       "    <tr>\n",
       "      <th>RL</th>\n",
       "      <td>50.0</td>\n",
       "      <td>20</td>\n",
       "    </tr>\n",
       "    <tr>\n",
       "      <th>RR</th>\n",
       "      <td>40.0</td>\n",
       "      <td>42</td>\n",
       "    </tr>\n",
       "    <tr>\n",
       "      <th>FL</th>\n",
       "      <td>30.0</td>\n",
       "      <td>12</td>\n",
       "    </tr>\n",
       "    <tr>\n",
       "      <th>FR</th>\n",
       "      <td>20.0</td>\n",
       "      <td>90</td>\n",
       "    </tr>\n",
       "    <tr>\n",
       "      <th>FRFR</th>\n",
       "      <td>NaN</td>\n",
       "      <td>25</td>\n",
       "    </tr>\n",
       "  </tbody>\n",
       "</table>\n",
       "</div>"
      ],
      "text/plain": [
       "         1   2\n",
       "RL    50.0  20\n",
       "RR    40.0  42\n",
       "FL    30.0  12\n",
       "FR    20.0  90\n",
       "FRFR   NaN  25"
      ]
     },
     "execution_count": 14,
     "metadata": {},
     "output_type": "execute_result"
    }
   ],
   "source": [
    "x=pd.DataFrame({1:{\"RL\":50,\"RR\":40,\"FL\":30,\"FR\":20},2:{\"RL\":20,\"RR\":42,\"FL\":12,\"FR\":90,\"FRFR\":25}})\n",
    "y=pd.DataFrame({1:{\"RL\":rs(),\"RR\":rs(),\"FL\":rs(),\"FR\":rs()},2:{\"RL\":rs(),\"RR\":rs(),\"FL\":rs(),\"FR\":rs(),\"FRFR\":rs()}})\n",
    "x"
   ]
  },
  {
   "cell_type": "code",
   "execution_count": 116,
   "metadata": {},
   "outputs": [
    {
     "data": {
      "text/plain": [
       "50.0"
      ]
     },
     "execution_count": 116,
     "metadata": {},
     "output_type": "execute_result"
    }
   ],
   "source": [
    "x.min().min().item()\n",
    "x[1].max()#.item()\n",
    "#x.shape"
   ]
  },
  {
   "cell_type": "code",
   "execution_count": 125,
   "metadata": {},
   "outputs": [
    {
     "ename": "SyntaxError",
     "evalue": "invalid syntax (4061219846.py, line 2)",
     "output_type": "error",
     "traceback": [
      "\u001b[1;36m  Input \u001b[1;32mIn [125]\u001b[1;36m\u001b[0m\n\u001b[1;33m    {u:\"GENIE\" for u in range(5) if u!=4 3:2 else}\u001b[0m\n\u001b[1;37m                                         ^\u001b[0m\n\u001b[1;31mSyntaxError\u001b[0m\u001b[1;31m:\u001b[0m invalid syntax\n"
     ]
    }
   ],
   "source": [
    "#{\"AYAW\":1,\"KABALAKA\":2}+{\"OMG\":3}\n",
    "{u:\"GENIE\" for u in range(5) if u!=4 else u:\"OMG\"}"
   ]
  },
  {
   "cell_type": "code",
   "execution_count": 79,
   "metadata": {},
   "outputs": [
    {
     "data": {
      "text/plain": [
       "(98, 'FRFR')"
      ]
     },
     "execution_count": 79,
     "metadata": {},
     "output_type": "execute_result"
    }
   ],
   "source": [
    "y[2][\"FRFR\"],y.index[-1]"
   ]
  },
  {
   "cell_type": "code",
   "execution_count": 74,
   "metadata": {},
   "outputs": [
    {
     "data": {
      "text/plain": [
       "nan"
      ]
     },
     "execution_count": 74,
     "metadata": {},
     "output_type": "execute_result"
    }
   ],
   "source": [
    "np.nan+5"
   ]
  },
  {
   "cell_type": "code",
   "execution_count": 68,
   "metadata": {},
   "outputs": [
    {
     "data": {
      "text/html": [
       "<div>\n",
       "<style scoped>\n",
       "    .dataframe tbody tr th:only-of-type {\n",
       "        vertical-align: middle;\n",
       "    }\n",
       "\n",
       "    .dataframe tbody tr th {\n",
       "        vertical-align: top;\n",
       "    }\n",
       "\n",
       "    .dataframe thead th {\n",
       "        text-align: right;\n",
       "    }\n",
       "</style>\n",
       "<table border=\"1\" class=\"dataframe\">\n",
       "  <thead>\n",
       "    <tr style=\"text-align: right;\">\n",
       "      <th></th>\n",
       "      <th>1</th>\n",
       "      <th>2</th>\n",
       "    </tr>\n",
       "  </thead>\n",
       "  <tbody>\n",
       "    <tr>\n",
       "      <th>RL</th>\n",
       "      <td>54.0</td>\n",
       "      <td>107</td>\n",
       "    </tr>\n",
       "    <tr>\n",
       "      <th>RR</th>\n",
       "      <td>83.0</td>\n",
       "      <td>131</td>\n",
       "    </tr>\n",
       "    <tr>\n",
       "      <th>FL</th>\n",
       "      <td>95.0</td>\n",
       "      <td>108</td>\n",
       "    </tr>\n",
       "    <tr>\n",
       "      <th>FR</th>\n",
       "      <td>104.0</td>\n",
       "      <td>161</td>\n",
       "    </tr>\n",
       "    <tr>\n",
       "      <th>FRFR</th>\n",
       "      <td>0.0</td>\n",
       "      <td>123</td>\n",
       "    </tr>\n",
       "  </tbody>\n",
       "</table>\n",
       "</div>"
      ],
      "text/plain": [
       "          1    2\n",
       "RL     54.0  107\n",
       "RR     83.0  131\n",
       "FL     95.0  108\n",
       "FR    104.0  161\n",
       "FRFR    0.0  123"
      ]
     },
     "execution_count": 68,
     "metadata": {},
     "output_type": "execute_result"
    }
   ],
   "source": [
    "(x+y).fillna(0)"
   ]
  },
  {
   "cell_type": "code",
   "execution_count": 80,
   "metadata": {},
   "outputs": [
    {
     "data": {
      "text/plain": [
       "RL       80.5\n",
       "RR      107.0\n",
       "FL      101.5\n",
       "FR      132.5\n",
       "FRFR    123.0\n",
       "dtype: float64"
      ]
     },
     "execution_count": 80,
     "metadata": {},
     "output_type": "execute_result"
    }
   ],
   "source": [
    "(x+y).mean(1)"
   ]
  },
  {
   "cell_type": "code",
   "execution_count": 56,
   "metadata": {},
   "outputs": [
    {
     "data": {
      "text/html": [
       "<div>\n",
       "<style scoped>\n",
       "    .dataframe tbody tr th:only-of-type {\n",
       "        vertical-align: middle;\n",
       "    }\n",
       "\n",
       "    .dataframe tbody tr th {\n",
       "        vertical-align: top;\n",
       "    }\n",
       "\n",
       "    .dataframe thead th {\n",
       "        text-align: right;\n",
       "    }\n",
       "</style>\n",
       "<table border=\"1\" class=\"dataframe\">\n",
       "  <thead>\n",
       "    <tr style=\"text-align: right;\">\n",
       "      <th></th>\n",
       "      <th>popo</th>\n",
       "      <th>pipip</th>\n",
       "      <th>lolo</th>\n",
       "    </tr>\n",
       "  </thead>\n",
       "  <tbody>\n",
       "    <tr>\n",
       "      <th>FL</th>\n",
       "      <td>12.0</td>\n",
       "      <td>30.0</td>\n",
       "      <td>NaN</td>\n",
       "    </tr>\n",
       "    <tr>\n",
       "      <th>FR</th>\n",
       "      <td>90.0</td>\n",
       "      <td>20.0</td>\n",
       "      <td>NaN</td>\n",
       "    </tr>\n",
       "    <tr>\n",
       "      <th>FRFR</th>\n",
       "      <td>25.0</td>\n",
       "      <td>NaN</td>\n",
       "      <td>NaN</td>\n",
       "    </tr>\n",
       "    <tr>\n",
       "      <th>RL</th>\n",
       "      <td>20.0</td>\n",
       "      <td>50.0</td>\n",
       "      <td>NaN</td>\n",
       "    </tr>\n",
       "    <tr>\n",
       "      <th>RR</th>\n",
       "      <td>42.0</td>\n",
       "      <td>40.0</td>\n",
       "      <td>NaN</td>\n",
       "    </tr>\n",
       "    <tr>\n",
       "      <th>1</th>\n",
       "      <td>NaN</td>\n",
       "      <td>NaN</td>\n",
       "      <td>2.0</td>\n",
       "    </tr>\n",
       "    <tr>\n",
       "      <th>3</th>\n",
       "      <td>NaN</td>\n",
       "      <td>NaN</td>\n",
       "      <td>4.0</td>\n",
       "    </tr>\n",
       "  </tbody>\n",
       "</table>\n",
       "</div>"
      ],
      "text/plain": [
       "      popo  pipip  lolo\n",
       "FL    12.0   30.0   NaN\n",
       "FR    90.0   20.0   NaN\n",
       "FRFR  25.0    NaN   NaN\n",
       "RL    20.0   50.0   NaN\n",
       "RR    42.0   40.0   NaN\n",
       "1      NaN    NaN   2.0\n",
       "3      NaN    NaN   4.0"
      ]
     },
     "execution_count": 56,
     "metadata": {},
     "output_type": "execute_result"
    }
   ],
   "source": [
    "pd.DataFrame({\"popo\":x.iloc[:,-1],\"pipip\":x.iloc[:,0],\"lolo\":{1:2,3:4}})\n",
    "#x.iloc[:,0].max()\n",
    "#[i for i in x.columns]"
   ]
  },
  {
   "cell_type": "code",
   "execution_count": 90,
   "metadata": {},
   "outputs": [
    {
     "data": {
      "text/plain": [
       "(189.0,\n",
       " 1    140.0\n",
       " 2    189.0\n",
       " dtype: float64)"
      ]
     },
     "execution_count": 90,
     "metadata": {},
     "output_type": "execute_result"
    }
   ],
   "source": [
    "\n",
    "z=x.sum(0)\n",
    "[i for i in (x.sum(0)).items()]\n",
    "x.sum(0).iloc[1],z"
   ]
  },
  {
   "cell_type": "code",
   "execution_count": 41,
   "metadata": {},
   "outputs": [
    {
     "data": {
      "text/plain": [
       "(1    50.0\n",
       " 2    90.0\n",
       " dtype: float64,\n",
       "          1   2\n",
       " RL    50.0  20\n",
       " RR    40.0  42\n",
       " FL    30.0  12\n",
       " FR    20.0  90\n",
       " FRFR   NaN  25)"
      ]
     },
     "execution_count": 41,
     "metadata": {},
     "output_type": "execute_result"
    }
   ],
   "source": [
    "x.max(0),x"
   ]
  },
  {
   "cell_type": "code",
   "execution_count": 60,
   "metadata": {},
   "outputs": [],
   "source": [
    "a={0: '5', 1: '5', 2: '5', 3: '5', 4: '5', 5: '5', 6: '5', 7: '5', 8: '5', 9: '5', 10: '5', 11: '5', 12: '5', 13: '5', 14: '5', 15: '5', 16: '5', 17: '5', 18: '5', 19: '5', 20: '5', 21: '5'}\n",
    "for i in a:\n",
    "    a[i]=int(a[i])"
   ]
  },
  {
   "cell_type": "code",
   "execution_count": 64,
   "metadata": {},
   "outputs": [
    {
     "data": {
      "text/plain": [
       "0          NaN\n",
       "1     0.100000\n",
       "2     0.055556\n",
       "3          NaN\n",
       "4          NaN\n",
       "5          NaN\n",
       "6          NaN\n",
       "7          NaN\n",
       "8          NaN\n",
       "9          NaN\n",
       "10         NaN\n",
       "11         NaN\n",
       "12         NaN\n",
       "13         NaN\n",
       "14         NaN\n",
       "15         NaN\n",
       "16         NaN\n",
       "17         NaN\n",
       "18         NaN\n",
       "19         NaN\n",
       "20         NaN\n",
       "21         NaN\n",
       "dtype: float64"
      ]
     },
     "execution_count": 64,
     "metadata": {},
     "output_type": "execute_result"
    }
   ],
   "source": [
    "pd.Series(a)/x.max(0)"
   ]
  },
  {
   "cell_type": "code",
   "execution_count": 12,
   "metadata": {},
   "outputs": [
    {
     "ename": "NameError",
     "evalue": "name 'pd' is not defined",
     "output_type": "error",
     "traceback": [
      "\u001b[1;31m---------------------------------------------------------------------------\u001b[0m",
      "\u001b[1;31mNameError\u001b[0m                                 Traceback (most recent call last)",
      "\u001b[1;32mc:\\Users\\iapab\\OneDrive\\Desktop\\CODE GAME\\F1\\omg.ipynb Cell 15\u001b[0m line \u001b[0;36m<cell line: 1>\u001b[1;34m()\u001b[0m\n\u001b[1;32m----> <a href='vscode-notebook-cell:/c%3A/Users/iapab/OneDrive/Desktop/CODE%20GAME/F1/omg.ipynb#X24sZmlsZQ%3D%3D?line=0'>1</a>\u001b[0m pd\u001b[39m.\u001b[39mDataFrame({\u001b[39m0\u001b[39m: {\u001b[39m'\u001b[39m\u001b[39mtotal\u001b[39m\u001b[39m'\u001b[39m: \u001b[39m'\u001b[39m\u001b[39m5\u001b[39m\u001b[39m'\u001b[39m}, \u001b[39m1\u001b[39m: {\u001b[39m'\u001b[39m\u001b[39mtotal\u001b[39m\u001b[39m'\u001b[39m: \u001b[39m'\u001b[39m\u001b[39m5\u001b[39m\u001b[39m'\u001b[39m}, \u001b[39m2\u001b[39m: {\u001b[39m'\u001b[39m\u001b[39mtotal\u001b[39m\u001b[39m'\u001b[39m: \u001b[39m'\u001b[39m\u001b[39m5\u001b[39m\u001b[39m'\u001b[39m}, \u001b[39m3\u001b[39m: {\u001b[39m'\u001b[39m\u001b[39mtotal\u001b[39m\u001b[39m'\u001b[39m: \u001b[39m'\u001b[39m\u001b[39m5\u001b[39m\u001b[39m'\u001b[39m}, \u001b[39m4\u001b[39m: {\u001b[39m'\u001b[39m\u001b[39mtotal\u001b[39m\u001b[39m'\u001b[39m: \u001b[39m'\u001b[39m\u001b[39m5\u001b[39m\u001b[39m'\u001b[39m}, \u001b[39m5\u001b[39m: {\u001b[39m'\u001b[39m\u001b[39mtotal\u001b[39m\u001b[39m'\u001b[39m: \u001b[39m'\u001b[39m\u001b[39m5\u001b[39m\u001b[39m'\u001b[39m}, \u001b[39m6\u001b[39m: {\u001b[39m'\u001b[39m\u001b[39mtotal\u001b[39m\u001b[39m'\u001b[39m: \u001b[39m'\u001b[39m\u001b[39m5\u001b[39m\u001b[39m'\u001b[39m}, \u001b[39m7\u001b[39m: {\u001b[39m'\u001b[39m\u001b[39mtotal\u001b[39m\u001b[39m'\u001b[39m: \u001b[39m'\u001b[39m\u001b[39m5\u001b[39m\u001b[39m'\u001b[39m}, \u001b[39m8\u001b[39m: {\u001b[39m'\u001b[39m\u001b[39mtotal\u001b[39m\u001b[39m'\u001b[39m: \u001b[39m'\u001b[39m\u001b[39m5\u001b[39m\u001b[39m'\u001b[39m}, \u001b[39m9\u001b[39m: {\u001b[39m'\u001b[39m\u001b[39mtotal\u001b[39m\u001b[39m'\u001b[39m: \u001b[39m'\u001b[39m\u001b[39m5\u001b[39m\u001b[39m'\u001b[39m}, \u001b[39m10\u001b[39m: {\u001b[39m'\u001b[39m\u001b[39mtotal\u001b[39m\u001b[39m'\u001b[39m: \u001b[39m'\u001b[39m\u001b[39m5\u001b[39m\u001b[39m'\u001b[39m}, \u001b[39m11\u001b[39m: {\u001b[39m'\u001b[39m\u001b[39mtotal\u001b[39m\u001b[39m'\u001b[39m: \u001b[39m'\u001b[39m\u001b[39m5\u001b[39m\u001b[39m'\u001b[39m}, \u001b[39m12\u001b[39m: {\u001b[39m'\u001b[39m\u001b[39mtotal\u001b[39m\u001b[39m'\u001b[39m: \u001b[39m'\u001b[39m\u001b[39m5\u001b[39m\u001b[39m'\u001b[39m}, \u001b[39m13\u001b[39m: {\u001b[39m'\u001b[39m\u001b[39mtotal\u001b[39m\u001b[39m'\u001b[39m: \u001b[39m'\u001b[39m\u001b[39m5\u001b[39m\u001b[39m'\u001b[39m}, \u001b[39m14\u001b[39m: {\u001b[39m'\u001b[39m\u001b[39mtotal\u001b[39m\u001b[39m'\u001b[39m: \u001b[39m'\u001b[39m\u001b[39m5\u001b[39m\u001b[39m'\u001b[39m}, \u001b[39m15\u001b[39m: {\u001b[39m'\u001b[39m\u001b[39mtotal\u001b[39m\u001b[39m'\u001b[39m: \u001b[39m'\u001b[39m\u001b[39m5\u001b[39m\u001b[39m'\u001b[39m}, \u001b[39m16\u001b[39m: {\u001b[39m'\u001b[39m\u001b[39mtotal\u001b[39m\u001b[39m'\u001b[39m: \u001b[39m'\u001b[39m\u001b[39m5\u001b[39m\u001b[39m'\u001b[39m}, \u001b[39m17\u001b[39m: {\u001b[39m'\u001b[39m\u001b[39mtotal\u001b[39m\u001b[39m'\u001b[39m: \u001b[39m'\u001b[39m\u001b[39m5\u001b[39m\u001b[39m'\u001b[39m}, \u001b[39m18\u001b[39m: {\u001b[39m'\u001b[39m\u001b[39mtotal\u001b[39m\u001b[39m'\u001b[39m: \u001b[39m'\u001b[39m\u001b[39m5\u001b[39m\u001b[39m'\u001b[39m}, \u001b[39m19\u001b[39m: {\u001b[39m'\u001b[39m\u001b[39mtotal\u001b[39m\u001b[39m'\u001b[39m: \u001b[39m'\u001b[39m\u001b[39m5\u001b[39m\u001b[39m'\u001b[39m}, \u001b[39m20\u001b[39m: {\u001b[39m'\u001b[39m\u001b[39mtotal\u001b[39m\u001b[39m'\u001b[39m: \u001b[39m'\u001b[39m\u001b[39m5\u001b[39m\u001b[39m'\u001b[39m}, \u001b[39m21\u001b[39m: {\u001b[39m'\u001b[39m\u001b[39mtotal\u001b[39m\u001b[39m'\u001b[39m: \u001b[39m'\u001b[39m\u001b[39m5\u001b[39m\u001b[39m'\u001b[39m}})\u001b[39m+\u001b[39mx\n",
      "\u001b[1;31mNameError\u001b[0m: name 'pd' is not defined"
     ]
    }
   ],
   "source": [
    "pd.DataFrame({0: {'total': '5'}, 1: {'total': '5'}, 2: {'total': '5'}, 3: {'total': '5'}, 4: {'total': '5'}, 5: {'total': '5'}, 6: {'total': '5'}, 7: {'total': '5'}, 8: {'total': '5'}, 9: {'total': '5'}, 10: {'total': '5'}, 11: {'total': '5'}, 12: {'total': '5'}, 13: {'total': '5'}, 14: {'total': '5'}, 15: {'total': '5'}, 16: {'total': '5'}, 17: {'total': '5'}, 18: {'total': '5'}, 19: {'total': '5'}, 20: {'total': '5'}, 21: {'total': '5'}})+x"
   ]
  },
  {
   "cell_type": "markdown",
   "metadata": {},
   "source": [
    "v=pd.DataFrame({0: {'RL': 0.7780995965003967, 'RR': 0.8171265125274658, 'FL': 0.4536488652229309, 'FR': 0.5077549815177917}, 1: {'RL': 1.5469876527786255, 'RR': 1.6432640552520752, 'FL': 0.9743476510047913, 'FR': 0.9459121823310852}, 2: {'RL': 1.5022364854812622, 'RR': 1.5660237073898315, 'FL': 1.0837589502334595, 'FR': 0.9016604423522949}, 3: {'RL': 1.4632951021194458, 'RR': 1.6257816553115845, 'FL': 0.9589208960533142, 'FR': 0.9445504546165466}, 4: {'RL': 1.532910704612732, 'RR': 1.6220884323120117, 'FL': 0.9628424644470215, 'FR': 0.92924964427948}, 5: {'RL': 1.5820164680480957, 'RR': 1.6873022317886353, 'FL': 1.0053818225860596, 'FR': 0.9614720940589905}, 6: {'RL': 1.5917844772338867, 'RR': 1.70133638381958, 'FL': 1.0194064378738403, 'FR': 1.0014551877975464}, 7: {'RL': 0.8833245635032654, 'RR': 0.9259963631629944, 'FL': 0.5532020330429077, 'FR': 0.5325199365615845}, 8: {'RL': 1.7230007648468018, 'RR': 1.780039668083191, 'FL': 1.1158047914505005, 'FR': 1.1081020832061768}, 9: {'RL': 1.4990776777267456, 'RR': 1.6580445766448975, 'FL': 0.9748584628105164, 'FR': 0.94187331199646}, 10: {'RL': 1.4968976974487305, 'RR': 1.5689959526062012, 'FL': 0.8941691517829895, 'FR': 0.8792635202407837}, 11: {'RL': 1.5796045064926147, 'RR': 1.7305346727371216, 'FL': 1.1129512786865234, 'FR': 1.068948745727539}, 12: {'RL': 0.8035668134689331, 'RR': 0.8468313217163086, 'FL': 0.5024459958076477, 'FR': 0.49450016021728516}, 13: {'RL': 0.8148288130760193, 'RR': 0.8431311845779419, 'FL': 0.48548462986946106, 'FR': 0.47275084257125854}, 14: {'RL': 1.5215516090393066, 'RR': 1.657055377960205, 'FL': 0.9551888108253479, 'FR': 0.9503596425056458}, 15: {'RL': 0.7606524229049683, 'RR': 0.7901998162269592, 'FL': 0.4493680000305176, 'FR': 0.439460426568985}, 16: {'RL': 0.8187857270240784, 'RR': 0.8654889464378357, 'FL': 0.5253750681877136, 'FR': 0.520967423915863}, 17: {'RL': 1.6336276531219482, 'RR': 1.6986188888549805, 'FL': 1.0689502954483032, 'FR': 1.078413963317871}, 18: {'RL': 1.5921002626419067, 'RR': 1.7255747318267822, 'FL': 1.1059051752090454, 'FR': 1.0684750080108643}, 19: {'RL': 2.608818292617798, 'RR': 2.713581085205078, 'FL': 2.799691915512085, 'FR': 2.7573249340057373}})\n",
    "v=v.mean()#.to_dict()\n",
    "v.to_frame().transpose()"
   ]
  },
  {
   "cell_type": "code",
   "execution_count": 69,
   "metadata": {},
   "outputs": [
    {
     "data": {
      "text/plain": [
       "((4, 3),\n",
       "     Name  Age  Height(in cm)\n",
       " 0   John   45            150\n",
       " 1  Sammy   38            180\n",
       " 2    Joe   90            160\n",
       " 3   OMAY    4              2)"
      ]
     },
     "execution_count": 69,
     "metadata": {},
     "output_type": "execute_result"
    }
   ],
   "source": [
    "df = pd.DataFrame({ \n",
    "    'Name': ['John', 'Sammy', 'Joe',\"OMAY\"], \n",
    "    'Age': [45, 38, 90,4], \n",
    "    'Height(in cm)': [150, 180, 160,2] \n",
    "}) \n",
    "df.shape,df"
   ]
  },
  {
   "cell_type": "code",
   "execution_count": 11,
   "metadata": {},
   "outputs": [
    {
     "data": {
      "text/plain": [
       "['C0', 'C1', 'C2', 'C3', 'C4', 'C5', 'C6', 'C7', 'C8', 'C9', 'C10']"
      ]
     },
     "execution_count": 11,
     "metadata": {},
     "output_type": "execute_result"
    }
   ],
   "source": [
    "[(\"C\"+str(i)) for i in range(11)]"
   ]
  },
  {
   "cell_type": "code",
   "execution_count": 99,
   "metadata": {},
   "outputs": [],
   "source": [
    "import matplotlib.pyplot as plt"
   ]
  },
  {
   "cell_type": "code",
   "execution_count": 109,
   "metadata": {},
   "outputs": [
    {
     "data": {
      "text/plain": [
       "[<matplotlib.lines.Line2D at 0x1c71cc0ee00>]"
      ]
     },
     "execution_count": 109,
     "metadata": {},
     "output_type": "execute_result"
    },
    {
     "data": {
      "image/png": "[encoded data removed]",
      "text/plain": [
       "<Figure size 432x288 with 4 Axes>"
      ]
     },
     "metadata": {
      "needs_background": "light"
     },
     "output_type": "display_data"
    }
   ],
   "source": [
    "fig, ((ax1,ax2),(ax3,ax4))=plt.subplots(nrows=2,ncols=2)\n",
    "ax1.plot(pd.Series({5:i for i in range(x.shape[0],900)}))"
   ]
  }
 ],
 "metadata": {
  "kernelspec": {
   "display_name": "Python 3",
   "language": "python",
   "name": "python3"
  },
  "language_info": {
   "codemirror_mode": {
    "name": "ipython",
    "version": 3
   },
   "file_extension": ".py",
   "mimetype": "text/x-python",
   "name": "python",
   "nbconvert_exporter": "python",
   "pygments_lexer": "ipython3",
   "version": "3.10.5"
  }
 },
 "nbformat": 4,
 "nbformat_minor": 2
}
