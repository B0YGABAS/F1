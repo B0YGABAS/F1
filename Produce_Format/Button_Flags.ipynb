{
 "cells": [
  {
   "cell_type": "code",
   "execution_count": 1,
   "metadata": {},
   "outputs": [],
   "source": [
    "Buttons={\n",
    "    0x00000001:\"Cross or A\",\n",
    "    0x00000002:\"Triangle or Y\",\n",
    "    0x00000004:\"Circle or B\",\n",
    "    0x00000008:\"Square or X\",\n",
    "    0x00000010:\"D-pad Left\",\n",
    "    0x00000020:\"D-pad Right\",\n",
    "    0x00000040:\"D-pad Up\",\n",
    "    0x00000080:\"D-pad Down\",\n",
    "    0x00000100:\"Options or Menu\",\n",
    "    0x00000200:\"L1 or LB\",\n",
    "    0x00000400:\"R1 or RB\",\n",
    "    0x00000800:\"L2 or LT\",\n",
    "    0x00001000:\"R2 or RT\",\n",
    "    0x00002000:\"Left Stick Click\",\n",
    "    0x00004000:\"Right Stick Click\",\n",
    "    0x00008000:\"Right Stick Left\",\n",
    "    0x00010000:\"Right Stick Right\",\n",
    "    0x00020000:\"Right Stick Up\",\n",
    "    0x00040000:\"Right Stick Down\",\n",
    "    0x00080000:\"Special\",\n",
    "    0x00100000:\"UDP Action 1\",\n",
    "    0x00200000:\"UDP Action 2\",\n",
    "    0x00400000:\"UDP Action 3\",\n",
    "    0x00800000:\"UDP Action 4\",\n",
    "    0x01000000:\"UDP Action 5\",\n",
    "    0x02000000:\"UDP Action 6\",\n",
    "    0x04000000:\"UDP Action 7\",\n",
    "    0x08000000:\"UDP Action 8\",\n",
    "    0x10000000:\"UDP Action 9\",\n",
    "    0x20000000:\"UDP Action 10\",\n",
    "    0x40000000:\"UDP Action 11\",\n",
    "    0x80000000:\"UDP Action 12\",\n",
    "}"
   ]
  },
  {
   "cell_type": "code",
   "execution_count": 5,
   "metadata": {},
   "outputs": [
    {
     "data": {
      "text/plain": [
       "{'Cross or A': 1,\n",
       " 'Triangle or Y': 2,\n",
       " 'Circle or B': 4,\n",
       " 'Square or X': 8,\n",
       " 'D-pad Left': 16,\n",
       " 'D-pad Right': 32,\n",
       " 'D-pad Up': 64,\n",
       " 'D-pad Down': 128,\n",
       " 'Options or Menu': 256,\n",
       " 'L1 or LB': 512,\n",
       " 'R1 or RB': 1024,\n",
       " 'L2 or LT': 2048,\n",
       " 'R2 or RT': 4096,\n",
       " 'Left Stick Click': 8192,\n",
       " 'Right Stick Click': 16384,\n",
       " 'Right Stick Left': 32768,\n",
       " 'Right Stick Right': 65536,\n",
       " 'Right Stick Up': 131072,\n",
       " 'Right Stick Down': 262144,\n",
       " 'Special': 524288,\n",
       " 'UDP Action 1': 1048576,\n",
       " 'UDP Action 2': 2097152,\n",
       " 'UDP Action 3': 4194304,\n",
       " 'UDP Action 4': 8388608,\n",
       " 'UDP Action 5': 16777216,\n",
       " 'UDP Action 6': 33554432,\n",
       " 'UDP Action 7': 67108864,\n",
       " 'UDP Action 8': 134217728,\n",
       " 'UDP Action 9': 268435456,\n",
       " 'UDP Action 10': 536870912,\n",
       " 'UDP Action 11': 1073741824,\n",
       " 'UDP Action 12': 2147483648}"
      ]
     },
     "execution_count": 5,
     "metadata": {},
     "output_type": "execute_result"
    }
   ],
   "source": [
    "Buttons={j:i for i,j in Buttons.items()}\n",
    "Buttons"
   ]
  }
 ],
 "metadata": {
  "kernelspec": {
   "display_name": "Python 3",
   "language": "python",
   "name": "python3"
  },
  "language_info": {
   "codemirror_mode": {
    "name": "ipython",
    "version": 3
   },
   "file_extension": ".py",
   "mimetype": "text/x-python",
   "name": "python",
   "nbconvert_exporter": "python",
   "pygments_lexer": "ipython3",
   "version": "3.10.5"
  }
 },
 "nbformat": 4,
 "nbformat_minor": 2
}
