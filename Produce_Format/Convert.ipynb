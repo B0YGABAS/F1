{
 "cells": [
  {
   "cell_type": "code",
   "execution_count": 10,
   "metadata": {},
   "outputs": [],
   "source": [
    "conversion={\n",
    "\"uint8\":\"B\",\n",
    "\"int8\":\"b\",\n",
    "\"uint16\":\"H\",\n",
    "\"int16\":\"h\",\n",
    "\"uint32\":\"I\",\n",
    "\"float\":\"f\",\n",
    "\"uint64\":\"Q\"}"
   ]
  },
  {
   "cell_type": "code",
   "execution_count": 11,
   "metadata": {},
   "outputs": [],
   "source": [
    "total=[]"
   ]
  },
  {
   "cell_type": "code",
   "execution_count": 12,
   "metadata": {},
   "outputs": [],
   "source": [
    "with open(\"Structure.txt\",\"r\") as omg:\n",
    "    for i in omg.readlines():\n",
    "        total.append(conversion[(i.split())[0]])\n",
    "        #print(i)\n",
    "    #total.append(conversion[(omg.readline().split())[0]])"
   ]
  },
  {
   "cell_type": "code",
   "execution_count": 13,
   "metadata": {},
   "outputs": [
    {
     "data": {
      "text/plain": [
       "'<HBBBBQfIBB'"
      ]
     },
     "execution_count": 13,
     "metadata": {},
     "output_type": "execute_result"
    }
   ],
   "source": [
    "\"<\"+\"\".join(i for i in total)"
   ]
  },
  {
   "cell_type": "code",
   "execution_count": 14,
   "metadata": {},
   "outputs": [],
   "source": [
    "finalwrite=[]"
   ]
  },
  {
   "cell_type": "markdown",
   "metadata": {},
   "source": [
    "with open(\"Structure2.txt\",\"r\") as omg:\n",
    "    for i in omg.readlines():\n",
    "        if \"//\" not in (i.split())[:2]:\n",
    "        #if i[0]!=\"//\":\n",
    "            finalwrite.append((i.split())[:2])\n",
    "        #print(i.split())\n",
    "    #total.append(conversion[(omg.readline().split())[0]])"
   ]
  },
  {
   "cell_type": "markdown",
   "metadata": {},
   "source": [
    "finalwrite"
   ]
  },
  {
   "cell_type": "markdown",
   "metadata": {},
   "source": [
    "for i in range(len(finalwrite)):\n",
    "    try:\n",
    "        finalwrite[i][0]=conversion[finalwrite[i][0]]\n",
    "        finalwrite[i]=\"\\\"\"+finalwrite[i][1]+\"\\\":\"+\"\\\"\"+finalwrite[i][0]+\"\\\",\"\n",
    "        #finalwrite[i][0],finalwrite[i][1]=finalwrite[i][1],finalwrite[i][0]\n",
    "    except:\n",
    "        #if finalwrite[i][0]==\"struct\":\n",
    "        if \"struct\" in finalwrite[i]:\n",
    "            finalwrite[i]=\"\\\"\"+finalwrite[i][1]+\"\\\":\"\n",
    "        elif len(finalwrite[i])==2 and \";\" not in finalwrite[i]:\n",
    "            finalwrite[i]=\"\\\"\"+finalwrite[i][1]+\"\\\":\"+\"\\\"\"+finalwrite[i][0]+\"\\\",\"\n",
    "        else:\n",
    "            finalwrite[i]=\" \".join(x for x in finalwrite[i])\n",
    "        if finalwrite[i]==\"} ;\" or finalwrite[i]==\"}\":\n",
    "            finalwrite[i]=\"},\"\n",
    "        pass\n",
    "\n",
    "#print(finalwrite)"
   ]
  },
  {
   "cell_type": "markdown",
   "metadata": {},
   "source": [
    "with open(\"Python_Structure.txt\",\"w\") as omg:\n",
    "    for i in finalwrite:\n",
    "        #omg.writelines(\" \".join(x for x in i))\n",
    "        omg.writelines(i)\n",
    "        omg.writelines('\\n')"
   ]
  },
  {
   "cell_type": "markdown",
   "metadata": {},
   "source": [
    "whatdapack=[]\n",
    "with open(\"Packets.txt\",\"r\") as omg:\n",
    "    for i in omg.readlines():\n",
    "        whatdapack.append(i.split())\n",
    "\n"
   ]
  },
  {
   "cell_type": "markdown",
   "metadata": {},
   "source": [
    "with open(\"Packets.txt\",\"w\") as omg:\n",
    "    for i in whatdapack:\n",
    "        omg.writelines(i[1]+\":\\\"Packet\"+i[0]+\"Data\\\"\")\n",
    "        omg.writelines('\\n')"
   ]
  },
  {
   "cell_type": "markdown",
   "metadata": {},
   "source": [
    "whatdapack=[]\n",
    "with open(\"Events.txt\",\"r\",encoding=\"utf8\") as omg:\n",
    "    for i in omg.readlines():\n",
    "        whatdapack.append(i.split())"
   ]
  },
  {
   "cell_type": "markdown",
   "metadata": {},
   "source": [
    "with open(\"Events.txt\",\"w\") as omg:\n",
    "    for i in whatdapack:\n",
    "        omg.writelines(i[1]+\":\\\"\"+i[0]+\"\\\"\")\n",
    "        omg.writelines('\\n')"
   ]
  }
 ],
 "metadata": {
  "kernelspec": {
   "display_name": "Python 3",
   "language": "python",
   "name": "python3"
  },
  "language_info": {
   "codemirror_mode": {
    "name": "ipython",
    "version": 3
   },
   "file_extension": ".py",
   "mimetype": "text/x-python",
   "name": "python",
   "nbconvert_exporter": "python",
   "pygments_lexer": "ipython3",
   "version": "3.10.5"
  }
 },
 "nbformat": 4,
 "nbformat_minor": 2
}
