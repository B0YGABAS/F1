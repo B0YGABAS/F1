{
 "cells": [
  {
   "cell_type": "code",
   "execution_count": null,
   "metadata": {},
   "outputs": [],
   "source": [
    "len((2022, 1, 19, 1, 3, 0, 0.0, 0, 19, 255, 66, 85, 84, 78, 4))"
   ]
  },
  {
   "cell_type": "code",
   "execution_count": null,
   "metadata": {},
   "outputs": [],
   "source": [
    "(2022, 1, 19, 1, 3, 0, 0.0, 0, 19, 255, 66, 85, 84, 78, 4)[14]"
   ]
  },
  {
   "cell_type": "code",
   "execution_count": null,
   "metadata": {},
   "outputs": [],
   "source": [
    "x=[2022, 1, 19, 1, 3, 0, 0.0, 0, 19, 255, 66, 85, 84, 78, 4]"
   ]
  },
  {
   "cell_type": "code",
   "execution_count": null,
   "metadata": {},
   "outputs": [],
   "source": [
    "x.pop(2)\n",
    "x"
   ]
  },
  {
   "cell_type": "code",
   "execution_count": null,
   "metadata": {},
   "outputs": [],
   "source": [
    "y=[chr(i) for i in range(ord('a'),ord('z')+1)]\n",
    "y=y+[\"1\",\"2\",None,\"3\"]\n",
    "y"
   ]
  },
  {
   "cell_type": "code",
   "execution_count": null,
   "metadata": {},
   "outputs": [],
   "source": [
    "\"\".join(i for i in y[:y.index(None)])"
   ]
  },
  {
   "cell_type": "code",
   "execution_count": 13,
   "metadata": {},
   "outputs": [],
   "source": [
    "import pandas as pd\n",
    "import random\n",
    "rs=lambda :random.randrange(100)"
   ]
  },
  {
   "cell_type": "code",
   "execution_count": 14,
   "metadata": {},
   "outputs": [
    {
     "data": {
      "text/html": [
       "<div>\n",
       "<style scoped>\n",
       "    .dataframe tbody tr th:only-of-type {\n",
       "        vertical-align: middle;\n",
       "    }\n",
       "\n",
       "    .dataframe tbody tr th {\n",
       "        vertical-align: top;\n",
       "    }\n",
       "\n",
       "    .dataframe thead th {\n",
       "        text-align: right;\n",
       "    }\n",
       "</style>\n",
       "<table border=\"1\" class=\"dataframe\">\n",
       "  <thead>\n",
       "    <tr style=\"text-align: right;\">\n",
       "      <th></th>\n",
       "      <th>1</th>\n",
       "      <th>2</th>\n",
       "    </tr>\n",
       "  </thead>\n",
       "  <tbody>\n",
       "    <tr>\n",
       "      <th>RL</th>\n",
       "      <td>50.0</td>\n",
       "      <td>20</td>\n",
       "    </tr>\n",
       "    <tr>\n",
       "      <th>RR</th>\n",
       "      <td>40.0</td>\n",
       "      <td>42</td>\n",
       "    </tr>\n",
       "    <tr>\n",
       "      <th>FL</th>\n",
       "      <td>30.0</td>\n",
       "      <td>12</td>\n",
       "    </tr>\n",
       "    <tr>\n",
       "      <th>FR</th>\n",
       "      <td>20.0</td>\n",
       "      <td>90</td>\n",
       "    </tr>\n",
       "    <tr>\n",
       "      <th>FRFR</th>\n",
       "      <td>NaN</td>\n",
       "      <td>25</td>\n",
       "    </tr>\n",
       "  </tbody>\n",
       "</table>\n",
       "</div>"
      ],
      "text/plain": [
       "         1   2\n",
       "RL    50.0  20\n",
       "RR    40.0  42\n",
       "FL    30.0  12\n",
       "FR    20.0  90\n",
       "FRFR   NaN  25"
      ]
     },
     "execution_count": 14,
     "metadata": {},
     "output_type": "execute_result"
    }
   ],
   "source": [
    "x=pd.DataFrame({1:{\"RL\":50,\"RR\":40,\"FL\":30,\"FR\":20},2:{\"RL\":20,\"RR\":42,\"FL\":12,\"FR\":90,\"FRFR\":25}})\n",
    "y=pd.DataFrame({1:{\"RL\":rs(),\"RR\":rs(),\"FL\":rs(),\"FR\":rs()},2:{\"RL\":rs(),\"RR\":rs(),\"FL\":rs(),\"FR\":rs(),\"FRFR\":rs()}})\n",
    "x"
   ]
  },
  {
   "cell_type": "code",
   "execution_count": 16,
   "metadata": {},
   "outputs": [
    {
     "data": {
      "text/html": [
       "<div>\n",
       "<style scoped>\n",
       "    .dataframe tbody tr th:only-of-type {\n",
       "        vertical-align: middle;\n",
       "    }\n",
       "\n",
       "    .dataframe tbody tr th {\n",
       "        vertical-align: top;\n",
       "    }\n",
       "\n",
       "    .dataframe thead th {\n",
       "        text-align: right;\n",
       "    }\n",
       "</style>\n",
       "<table border=\"1\" class=\"dataframe\">\n",
       "  <thead>\n",
       "    <tr style=\"text-align: right;\">\n",
       "      <th></th>\n",
       "      <th>1</th>\n",
       "      <th>2</th>\n",
       "    </tr>\n",
       "  </thead>\n",
       "  <tbody>\n",
       "    <tr>\n",
       "      <th>RL</th>\n",
       "      <td>95.0</td>\n",
       "      <td>67</td>\n",
       "    </tr>\n",
       "    <tr>\n",
       "      <th>RR</th>\n",
       "      <td>92.0</td>\n",
       "      <td>96</td>\n",
       "    </tr>\n",
       "    <tr>\n",
       "      <th>FL</th>\n",
       "      <td>56.0</td>\n",
       "      <td>30</td>\n",
       "    </tr>\n",
       "    <tr>\n",
       "      <th>FR</th>\n",
       "      <td>61.0</td>\n",
       "      <td>35</td>\n",
       "    </tr>\n",
       "    <tr>\n",
       "      <th>FRFR</th>\n",
       "      <td>NaN</td>\n",
       "      <td>56</td>\n",
       "    </tr>\n",
       "  </tbody>\n",
       "</table>\n",
       "</div>"
      ],
      "text/plain": [
       "         1   2\n",
       "RL    95.0  67\n",
       "RR    92.0  96\n",
       "FL    56.0  30\n",
       "FR    61.0  35\n",
       "FRFR   NaN  56"
      ]
     },
     "execution_count": 16,
     "metadata": {},
     "output_type": "execute_result"
    }
   ],
   "source": [
    "y"
   ]
  },
  {
   "cell_type": "code",
   "execution_count": 15,
   "metadata": {},
   "outputs": [
    {
     "data": {
      "text/html": [
       "<div>\n",
       "<style scoped>\n",
       "    .dataframe tbody tr th:only-of-type {\n",
       "        vertical-align: middle;\n",
       "    }\n",
       "\n",
       "    .dataframe tbody tr th {\n",
       "        vertical-align: top;\n",
       "    }\n",
       "\n",
       "    .dataframe thead th {\n",
       "        text-align: right;\n",
       "    }\n",
       "</style>\n",
       "<table border=\"1\" class=\"dataframe\">\n",
       "  <thead>\n",
       "    <tr style=\"text-align: right;\">\n",
       "      <th></th>\n",
       "      <th>1</th>\n",
       "      <th>2</th>\n",
       "    </tr>\n",
       "  </thead>\n",
       "  <tbody>\n",
       "    <tr>\n",
       "      <th>RL</th>\n",
       "      <td>145.0</td>\n",
       "      <td>87</td>\n",
       "    </tr>\n",
       "    <tr>\n",
       "      <th>RR</th>\n",
       "      <td>132.0</td>\n",
       "      <td>138</td>\n",
       "    </tr>\n",
       "    <tr>\n",
       "      <th>FL</th>\n",
       "      <td>86.0</td>\n",
       "      <td>42</td>\n",
       "    </tr>\n",
       "    <tr>\n",
       "      <th>FR</th>\n",
       "      <td>81.0</td>\n",
       "      <td>125</td>\n",
       "    </tr>\n",
       "    <tr>\n",
       "      <th>FRFR</th>\n",
       "      <td>NaN</td>\n",
       "      <td>81</td>\n",
       "    </tr>\n",
       "  </tbody>\n",
       "</table>\n",
       "</div>"
      ],
      "text/plain": [
       "          1    2\n",
       "RL    145.0   87\n",
       "RR    132.0  138\n",
       "FL     86.0   42\n",
       "FR     81.0  125\n",
       "FRFR    NaN   81"
      ]
     },
     "execution_count": 15,
     "metadata": {},
     "output_type": "execute_result"
    }
   ],
   "source": [
    "x+y"
   ]
  },
  {
   "cell_type": "code",
   "execution_count": 38,
   "metadata": {},
   "outputs": [
    {
     "data": {
      "text/plain": [
       "1    140.0\n",
       "2    189.0\n",
       "dtype: float64"
      ]
     },
     "execution_count": 38,
     "metadata": {},
     "output_type": "execute_result"
    }
   ],
   "source": [
    "z=x.sum(0)\n",
    "x.sum(0)"
   ]
  },
  {
   "cell_type": "code",
   "execution_count": 41,
   "metadata": {},
   "outputs": [
    {
     "data": {
      "text/plain": [
       "(1    50.0\n",
       " 2    90.0\n",
       " dtype: float64,\n",
       "          1   2\n",
       " RL    50.0  20\n",
       " RR    40.0  42\n",
       " FL    30.0  12\n",
       " FR    20.0  90\n",
       " FRFR   NaN  25)"
      ]
     },
     "execution_count": 41,
     "metadata": {},
     "output_type": "execute_result"
    }
   ],
   "source": [
    "x.max(0),x"
   ]
  },
  {
   "cell_type": "code",
   "execution_count": 60,
   "metadata": {},
   "outputs": [],
   "source": [
    "a={0: '5', 1: '5', 2: '5', 3: '5', 4: '5', 5: '5', 6: '5', 7: '5', 8: '5', 9: '5', 10: '5', 11: '5', 12: '5', 13: '5', 14: '5', 15: '5', 16: '5', 17: '5', 18: '5', 19: '5', 20: '5', 21: '5'}\n",
    "for i in a:\n",
    "    a[i]=int(a[i])"
   ]
  },
  {
   "cell_type": "code",
   "execution_count": 64,
   "metadata": {},
   "outputs": [
    {
     "data": {
      "text/plain": [
       "0          NaN\n",
       "1     0.100000\n",
       "2     0.055556\n",
       "3          NaN\n",
       "4          NaN\n",
       "5          NaN\n",
       "6          NaN\n",
       "7          NaN\n",
       "8          NaN\n",
       "9          NaN\n",
       "10         NaN\n",
       "11         NaN\n",
       "12         NaN\n",
       "13         NaN\n",
       "14         NaN\n",
       "15         NaN\n",
       "16         NaN\n",
       "17         NaN\n",
       "18         NaN\n",
       "19         NaN\n",
       "20         NaN\n",
       "21         NaN\n",
       "dtype: float64"
      ]
     },
     "execution_count": 64,
     "metadata": {},
     "output_type": "execute_result"
    }
   ],
   "source": [
    "pd.Series(a)/x.max(0)"
   ]
  },
  {
   "cell_type": "markdown",
   "metadata": {},
   "source": [
    "pd.DataFrame({0: {'total': '5'}, 1: {'total': '5'}, 2: {'total': '5'}, 3: {'total': '5'}, 4: {'total': '5'}, 5: {'total': '5'}, 6: {'total': '5'}, 7: {'total': '5'}, 8: {'total': '5'}, 9: {'total': '5'}, 10: {'total': '5'}, 11: {'total': '5'}, 12: {'total': '5'}, 13: {'total': '5'}, 14: {'total': '5'}, 15: {'total': '5'}, 16: {'total': '5'}, 17: {'total': '5'}, 18: {'total': '5'}, 19: {'total': '5'}, 20: {'total': '5'}, 21: {'total': '5'}})+x"
   ]
  },
  {
   "cell_type": "markdown",
   "metadata": {},
   "source": [
    "v=pd.DataFrame({0: {'RL': 0.7780995965003967, 'RR': 0.8171265125274658, 'FL': 0.4536488652229309, 'FR': 0.5077549815177917}, 1: {'RL': 1.5469876527786255, 'RR': 1.6432640552520752, 'FL': 0.9743476510047913, 'FR': 0.9459121823310852}, 2: {'RL': 1.5022364854812622, 'RR': 1.5660237073898315, 'FL': 1.0837589502334595, 'FR': 0.9016604423522949}, 3: {'RL': 1.4632951021194458, 'RR': 1.6257816553115845, 'FL': 0.9589208960533142, 'FR': 0.9445504546165466}, 4: {'RL': 1.532910704612732, 'RR': 1.6220884323120117, 'FL': 0.9628424644470215, 'FR': 0.92924964427948}, 5: {'RL': 1.5820164680480957, 'RR': 1.6873022317886353, 'FL': 1.0053818225860596, 'FR': 0.9614720940589905}, 6: {'RL': 1.5917844772338867, 'RR': 1.70133638381958, 'FL': 1.0194064378738403, 'FR': 1.0014551877975464}, 7: {'RL': 0.8833245635032654, 'RR': 0.9259963631629944, 'FL': 0.5532020330429077, 'FR': 0.5325199365615845}, 8: {'RL': 1.7230007648468018, 'RR': 1.780039668083191, 'FL': 1.1158047914505005, 'FR': 1.1081020832061768}, 9: {'RL': 1.4990776777267456, 'RR': 1.6580445766448975, 'FL': 0.9748584628105164, 'FR': 0.94187331199646}, 10: {'RL': 1.4968976974487305, 'RR': 1.5689959526062012, 'FL': 0.8941691517829895, 'FR': 0.8792635202407837}, 11: {'RL': 1.5796045064926147, 'RR': 1.7305346727371216, 'FL': 1.1129512786865234, 'FR': 1.068948745727539}, 12: {'RL': 0.8035668134689331, 'RR': 0.8468313217163086, 'FL': 0.5024459958076477, 'FR': 0.49450016021728516}, 13: {'RL': 0.8148288130760193, 'RR': 0.8431311845779419, 'FL': 0.48548462986946106, 'FR': 0.47275084257125854}, 14: {'RL': 1.5215516090393066, 'RR': 1.657055377960205, 'FL': 0.9551888108253479, 'FR': 0.9503596425056458}, 15: {'RL': 0.7606524229049683, 'RR': 0.7901998162269592, 'FL': 0.4493680000305176, 'FR': 0.439460426568985}, 16: {'RL': 0.8187857270240784, 'RR': 0.8654889464378357, 'FL': 0.5253750681877136, 'FR': 0.520967423915863}, 17: {'RL': 1.6336276531219482, 'RR': 1.6986188888549805, 'FL': 1.0689502954483032, 'FR': 1.078413963317871}, 18: {'RL': 1.5921002626419067, 'RR': 1.7255747318267822, 'FL': 1.1059051752090454, 'FR': 1.0684750080108643}, 19: {'RL': 2.608818292617798, 'RR': 2.713581085205078, 'FL': 2.799691915512085, 'FR': 2.7573249340057373}})\n",
    "v=v.mean()#.to_dict()\n",
    "v.to_frame().transpose()"
   ]
  },
  {
   "cell_type": "markdown",
   "metadata": {},
   "source": [
    "df = pd.DataFrame({ \n",
    "    'Name': ['John', 'Sammy', 'Joe'], \n",
    "    'Age': [45, 38, 90], \n",
    "    'Height(in cm)': [150, 180, 160] \n",
    "}) \n",
    "df[:][0]"
   ]
  }
 ],
 "metadata": {
  "kernelspec": {
   "display_name": "Python 3",
   "language": "python",
   "name": "python3"
  },
  "language_info": {
   "codemirror_mode": {
    "name": "ipython",
    "version": 3
   },
   "file_extension": ".py",
   "mimetype": "text/x-python",
   "name": "python",
   "nbconvert_exporter": "python",
   "pygments_lexer": "ipython3",
   "version": "3.10.5"
  }
 },
 "nbformat": 4,
 "nbformat_minor": 2
}
